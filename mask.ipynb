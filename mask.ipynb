{
  "nbformat": 4,
  "nbformat_minor": 0,
  "metadata": {
    "colab": {
      "name": "mask.ipynb",
      "provenance": [],
      "collapsed_sections": [],
      "include_colab_link": true
    },
    "kernelspec": {
      "name": "python3",
      "display_name": "Python 3"
    },
    "language_info": {
      "name": "python"
    }
  },
  "cells": [
    {
      "cell_type": "markdown",
      "metadata": {
        "id": "view-in-github",
        "colab_type": "text"
      },
      "source": [
        "<a href=\"https://colab.research.google.com/github/prabhhhneet/Gradient-Descent-python/blob/main/mask.ipynb\" target=\"_parent\"><img src=\"https://colab.research.google.com/assets/colab-badge.svg\" alt=\"Open In Colab\"/></a>"
      ]
    },
    {
      "cell_type": "code",
      "metadata": {
        "id": "Q_YZ2igM3fGh"
      },
      "source": [
        ""
      ],
      "execution_count": null,
      "outputs": []
    },
    {
      "cell_type": "code",
      "metadata": {
        "colab": {
          "base_uri": "https://localhost:8080/"
        },
        "id": "gKj0x1_V0hbU",
        "outputId": "b35c3de9-8f89-4ee1-9d28-7a78d6eed4c4"
      },
      "source": [
        "# Data Preprocessing \n",
        "# As the images are of different colour, different sizes. So in this the \n",
        "# main aim is to convert the images into grey and resize into 100*100\n",
        "import cv2,os\n",
        "\n",
        "data_path='/content/drive/MyDrive/dataset'\n",
        "# load folder names\n",
        "categories=os.listdir(data_path)\n",
        "# number of folders\n",
        "labels=[i for i in range(len(categories))]\n",
        "\n",
        "# dictionary for labels\n",
        "label_dict=dict(zip(categories,labels)) #empty dictionary\n",
        "\n",
        "print(label_dict)\n",
        "print(categories)\n",
        "print(labels)"
      ],
      "execution_count": 16,
      "outputs": [
        {
          "output_type": "stream",
          "name": "stdout",
          "text": [
            "{'without_mask': 0, 'with_mask': 1}\n",
            "['without_mask', 'with_mask']\n",
            "[0, 1]\n"
          ]
        }
      ]
    },
    {
      "cell_type": "code",
      "metadata": {
        "id": "B7w6Gin44r_6"
      },
      "source": [
        "# size of image\n",
        "img_size=100\n",
        "#empty label lists to store the images\n",
        "data=[]\n",
        "target=[]\n",
        "\n",
        "\n",
        "for category in categories:\n",
        "    folder_path=os.path.join(data_path,category)\n",
        "    img_names=os.listdir(folder_path)\n",
        "        \n",
        "    for img_name in img_names:\n",
        "        img_path=os.path.join(folder_path,img_name)\n",
        "        img=cv2.imread(img_path)\n",
        "\n",
        "        try:\n",
        "            gray=cv2.cvtColor(img,cv2.COLOR_BGR2GRAY)           \n",
        "            #Coverting the image into gray scale\n",
        "            resized=cv2.resize(gray,(img_size,img_size))\n",
        "            #resizing the gray scale into 100x100, since we need a fixed common\n",
        "            # size for all the images in the dataset\n",
        "            data.append(resized)\n",
        "            target.append(label_dict[category])\n",
        "            #appending the image and the label(categorized) into the list (dataset)\n",
        "\n",
        "        except Exception as e:\n",
        "            print('Exception:',e)\n",
        "            #if any exception rasied, the exception will be printed here. And pass to the next image"
      ],
      "execution_count": 17,
      "outputs": []
    },
    {
      "cell_type": "code",
      "metadata": {
        "colab": {
          "base_uri": "https://localhost:8080/"
        },
        "id": "3Ubr-2kKQWCp",
        "outputId": "0cadab50-1096-450d-b31a-1841f6cb064b"
      },
      "source": [
        "from google.colab import drive\n",
        "drive.mount('/content/drive')"
      ],
      "execution_count": 18,
      "outputs": [
        {
          "output_type": "stream",
          "name": "stdout",
          "text": [
            "Drive already mounted at /content/drive; to attempt to forcibly remount, call drive.mount(\"/content/drive\", force_remount=True).\n"
          ]
        }
      ]
    },
    {
      "cell_type": "code",
      "metadata": {
        "id": "GydDEF3541HQ"
      },
      "source": [
        " #normalize the images\n",
        "import numpy as np\n",
        "\n",
        "#to convert it into pixel range(0,1)\n",
        "data=np.array(data)/255.0\n",
        "\n",
        "#to convert 4d array\n",
        "data=np.reshape(data,(data.shape[0],img_size,img_size,1))\n",
        "target=np.array(target)\n",
        "\n",
        "from keras.utils import np_utils\n",
        "\n",
        "# as last layer of neural network has 2 neurons so the target should be\n",
        "# converted to two values(0,1) \n",
        "new_target=np_utils.to_categorical(target)"
      ],
      "execution_count": 19,
      "outputs": []
    },
    {
      "cell_type": "code",
      "metadata": {
        "id": "eQNtS4_X6IkB"
      },
      "source": [
        "# save the data and target\n",
        "np.save('data',data)\n",
        "np.save('target',new_target)"
      ],
      "execution_count": 20,
      "outputs": []
    },
    {
      "cell_type": "code",
      "metadata": {
        "id": "hv0PVfKQ6Nyn"
      },
      "source": [
        "import numpy as np\n",
        "\n",
        "data=np.load('data.npy')\n",
        "target=np.load('target.npy')\n",
        "\n",
        "#loading the save numpy arrays in the previous code"
      ],
      "execution_count": 21,
      "outputs": []
    },
    {
      "cell_type": "code",
      "metadata": {
        "id": "mAqhuXLB6XSg"
      },
      "source": [
        "from keras.models import Sequential\n",
        "from keras.layers import Dense,Activation,Flatten,Dropout\n",
        "from keras.layers import Conv2D,MaxPooling2D\n",
        "from keras.callbacks import ModelCheckpoint\n",
        "\n",
        "model=Sequential()\n",
        "\n",
        "model.add(Conv2D(200,(3,3),input_shape=data.shape[1:]))\n",
        "model.add(Activation('relu'))\n",
        "model.add(MaxPooling2D(pool_size=(2,2)))\n",
        "#The first CNN layer followed by Relu and MaxPooling layers\n",
        "\n",
        "model.add(Conv2D(100,(3,3)))\n",
        "model.add(Activation('relu'))\n",
        "model.add(MaxPooling2D(pool_size=(2,2)))\n",
        "#The second convolution layer followed by Relu and MaxPooling layers\n",
        "\n",
        "model.add(Flatten())\n",
        "model.add(Dropout(0.5))\n",
        "#Flatten layer to stack the output convolutions from second convolution layer\n",
        "model.add(Dense(50,activation='relu'))\n",
        "#Dense layer of 64 neurons\n",
        "model.add(Dense(2,activation='softmax'))\n",
        "#The Final layer with two outputs for two categories\n",
        "\n",
        "model.compile(loss='categorical_crossentropy',optimizer='adam',metrics=['accuracy'])"
      ],
      "execution_count": 22,
      "outputs": []
    },
    {
      "cell_type": "code",
      "metadata": {
        "id": "0B3lNGK36cFw"
      },
      "source": [
        "from sklearn.model_selection import train_test_split\n",
        "\n",
        "train_data,test_data,train_target,test_target=train_test_split(data,target,test_size=0.1)"
      ],
      "execution_count": 23,
      "outputs": []
    },
    {
      "cell_type": "code",
      "metadata": {
        "colab": {
          "base_uri": "https://localhost:8080/"
        },
        "id": "Am3Xz-Vv6fYn",
        "outputId": "86c25f04-eed0-4a44-b3d1-c423b7698897"
      },
      "source": [
        "checkpoint = ModelCheckpoint('model-{epoch:03d}.model',monitor='val_loss',verbose=0,save_best_only=True,mode='auto')\n",
        "history=model.fit(train_data,train_target,epochs=20,callbacks=[checkpoint],validation_split=0.2)"
      ],
      "execution_count": null,
      "outputs": [
        {
          "output_type": "stream",
          "name": "stdout",
          "text": [
            "Epoch 1/20\n",
            "31/31 [==============================] - ETA: 0s - loss: 0.6375 - accuracy: 0.6331INFO:tensorflow:Assets written to: model-001.model/assets\n",
            "31/31 [==============================] - 81s 3s/step - loss: 0.6375 - accuracy: 0.6331 - val_loss: 0.5059 - val_accuracy: 0.8145\n",
            "Epoch 2/20\n",
            "31/31 [==============================] - ETA: 0s - loss: 0.3812 - accuracy: 0.8417INFO:tensorflow:Assets written to: model-002.model/assets\n",
            "31/31 [==============================] - 79s 3s/step - loss: 0.3812 - accuracy: 0.8417 - val_loss: 0.2967 - val_accuracy: 0.8911\n",
            "Epoch 3/20\n",
            "31/31 [==============================] - 77s 3s/step - loss: 0.2231 - accuracy: 0.9062 - val_loss: 0.3263 - val_accuracy: 0.8468\n",
            "Epoch 4/20\n",
            "31/31 [==============================] - ETA: 0s - loss: 0.1649 - accuracy: 0.9466INFO:tensorflow:Assets written to: model-004.model/assets\n",
            "31/31 [==============================] - 78s 3s/step - loss: 0.1649 - accuracy: 0.9466 - val_loss: 0.2530 - val_accuracy: 0.8952\n",
            "Epoch 5/20\n",
            "31/31 [==============================] - ETA: 0s - loss: 0.1565 - accuracy: 0.9385INFO:tensorflow:Assets written to: model-005.model/assets\n",
            "31/31 [==============================] - 79s 3s/step - loss: 0.1565 - accuracy: 0.9385 - val_loss: 0.2107 - val_accuracy: 0.9315\n",
            "Epoch 6/20\n",
            "31/31 [==============================] - 77s 2s/step - loss: 0.1165 - accuracy: 0.9627 - val_loss: 0.2550 - val_accuracy: 0.9032\n",
            "Epoch 7/20\n",
            "31/31 [==============================] - ETA: 0s - loss: 0.0932 - accuracy: 0.9667INFO:tensorflow:Assets written to: model-007.model/assets\n",
            "31/31 [==============================] - 79s 3s/step - loss: 0.0932 - accuracy: 0.9667 - val_loss: 0.1824 - val_accuracy: 0.9234\n",
            "Epoch 8/20\n",
            "31/31 [==============================] - 77s 2s/step - loss: 0.0731 - accuracy: 0.9788 - val_loss: 0.4681 - val_accuracy: 0.8710\n",
            "Epoch 9/20\n",
            "31/31 [==============================] - 77s 2s/step - loss: 0.0560 - accuracy: 0.9829 - val_loss: 0.2420 - val_accuracy: 0.9194\n",
            "Epoch 10/20\n",
            "31/31 [==============================] - 77s 2s/step - loss: 0.0333 - accuracy: 0.9919 - val_loss: 0.2763 - val_accuracy: 0.9234\n",
            "Epoch 11/20\n",
            "31/31 [==============================] - 77s 2s/step - loss: 0.0227 - accuracy: 0.9950 - val_loss: 0.3285 - val_accuracy: 0.9234\n",
            "Epoch 12/20\n",
            "31/31 [==============================] - 77s 2s/step - loss: 0.0166 - accuracy: 0.9960 - val_loss: 0.2386 - val_accuracy: 0.9395\n",
            "Epoch 13/20\n",
            "31/31 [==============================] - 77s 2s/step - loss: 0.0283 - accuracy: 0.9889 - val_loss: 0.7460 - val_accuracy: 0.8589\n",
            "Epoch 14/20\n",
            "31/31 [==============================] - 76s 2s/step - loss: 0.0448 - accuracy: 0.9839 - val_loss: 0.2745 - val_accuracy: 0.9153\n",
            "Epoch 15/20\n",
            "31/31 [==============================] - 76s 2s/step - loss: 0.0190 - accuracy: 0.9919 - val_loss: 0.2668 - val_accuracy: 0.9274\n",
            "Epoch 16/20\n",
            "31/31 [==============================] - 77s 2s/step - loss: 0.0095 - accuracy: 0.9990 - val_loss: 0.5104 - val_accuracy: 0.9113\n",
            "Epoch 17/20\n",
            "31/31 [==============================] - 76s 2s/step - loss: 0.0379 - accuracy: 0.9879 - val_loss: 0.2138 - val_accuracy: 0.9355\n",
            "Epoch 18/20\n",
            "20/31 [==================>...........] - ETA: 25s - loss: 0.0103 - accuracy: 1.0000"
          ]
        }
      ]
    },
    {
      "cell_type": "code",
      "metadata": {
        "id": "FyvawPgx6iDc"
      },
      "source": [
        "from matplotlib import pyplot as plt\n",
        "\n",
        "plt.plot(history.history['loss'],'r',label='training loss')\n",
        "plt.plot(history.history['val_loss'],label='validation loss')\n",
        "plt.xlabel('# epochs')\n",
        "plt.ylabel('loss')\n",
        "plt.legend()\n",
        "plt.show()"
      ],
      "execution_count": null,
      "outputs": []
    },
    {
      "cell_type": "code",
      "metadata": {
        "id": "GD6DVxOsCP87"
      },
      "source": [
        "plt.plot(history.history['accuracy'],'r',label='training accuracy')\n",
        "plt.plot(history.history['val_accuracy'],label='validation accuracy')\n",
        "plt.xlabel('# epochs')\n",
        "plt.ylabel('loss')\n",
        "plt.legend()\n",
        "plt.show()"
      ],
      "execution_count": null,
      "outputs": []
    },
    {
      "cell_type": "code",
      "metadata": {
        "id": "OjojYUXaCSUd"
      },
      "source": [
        "print(model.evaluate(test_data,test_target))"
      ],
      "execution_count": null,
      "outputs": []
    },
    {
      "cell_type": "code",
      "metadata": {
        "id": "PDy0FmWLCUxg"
      },
      "source": [
        "from keras.models import load_model\n",
        "import cv2\n",
        "import numpy as np"
      ],
      "execution_count": null,
      "outputs": []
    },
    {
      "cell_type": "code",
      "metadata": {
        "id": "8JGj4nARENqX"
      },
      "source": [
        "model = load_model('drive/MyDrive/dataset/haarcascade/model-017.model')\n",
        "\n",
        "face_clsfr=cv2.CascadeClassifier('drive/MyDrive/dataset/haarcascade/haarcascade_frontalface_default.xml')\n",
        "\n",
        "source=cv2.VideoCapture(2)\n",
        "\n",
        "labels_dict={0:'MASK',1:'NO MASK'}\n",
        "color_dict={0:(0,255,0),1:(0,0,255)}"
      ],
      "execution_count": null,
      "outputs": []
    },
    {
      "cell_type": "code",
      "metadata": {
        "id": "_r6xx7HW6kCV"
      },
      "source": [
        "while(True):\n",
        "\n",
        "    ret,img=source.read()\n",
        "    gray=cv2.cvtColor(img,cv2.COLOR_BGR2GRAY)\n",
        "    faces=face_clsfr.detectMultiScale(gray,1.3,5)  \n",
        "\n",
        "    for (x,y,w,h) in faces:\n",
        "    \n",
        "        face_img=gray[y:y+w,x:x+w]\n",
        "        resized=cv2.resize(face_img,(100,100))\n",
        "        normalized=resized/255.0\n",
        "        reshaped=np.reshape(normalized,(1,100,100,1))\n",
        "        result=model.predict(reshaped)\n",
        "\n",
        "        label=np.argmax(result,axis=1)[0]\n",
        "      \n",
        "        cv2.rectangle(img,(x,y),(x+w,y+h),color_dict[label],2)\n",
        "        cv2.rectangle(img,(x,y-40),(x+w,y),color_dict[label],-1)\n",
        "        cv2.putText(img, labels_dict[label], (x, y-10),cv2.FONT_HERSHEY_SIMPLEX,0.8,(255,255,255),2)\n",
        "        \n",
        "        \n",
        "    cv2.imshow('LIVE',img)\n",
        "    key=cv2.waitKey(1)\n",
        "    \n",
        "    if(key==27):\n",
        "        break\n",
        "        \n",
        "cv2.destroyAllWindows()\n",
        "source.release()\n"
      ],
      "execution_count": null,
      "outputs": []
    },
    {
      "cell_type": "code",
      "metadata": {
        "id": "IlHxDklr-2Cb"
      },
      "source": [
        ""
      ],
      "execution_count": null,
      "outputs": []
    }
  ]
}